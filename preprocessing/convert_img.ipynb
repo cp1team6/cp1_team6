{
 "cells": [
  {
   "cell_type": "code",
   "execution_count": null,
   "id": "eef1ac33",
   "metadata": {},
   "outputs": [],
   "source": [
    "import cv2 as cv\n",
    "import glob\n",
    "import numpy as np"
   ]
  },
  {
   "cell_type": "code",
   "execution_count": 43,
   "id": "44b85e3b",
   "metadata": {},
   "outputs": [],
   "source": [
    "# resize to (416,416) ; fill in the blanks with black\n",
    "pics=glob.glob('*.jpg') + glob.glob('*.jpeg')\n",
    "\n",
    "size=(416,416)\n",
    "\n",
    "for pic in pics:\n",
    "    base_pic=np.zeros((size[1],size[0],3),np.uint8)\n",
    "    pic1=cv.imread(pic,cv.IMREAD_COLOR)\n",
    "    h,w=pic1.shape[:2]\n",
    "    ash=size[1]/h\n",
    "    asw=size[0]/w\n",
    "    if asw<ash:\n",
    "        sizeas=(int(w*asw),int(h*asw))\n",
    "    else:\n",
    "        sizeas=(int(w*ash),int(h*ash))\n",
    "    pic1 = cv.resize(pic1,dsize=sizeas)\n",
    "    base_pic[int(size[1]/2-sizeas[1]/2):int(size[1]/2+sizeas[1]/2),\n",
    "    int(size[0]/2-sizeas[0]/2):int(size[0]/2+sizeas[0]/2),:]=pic1\n",
    "    cv.imwrite(pic,base_pic)\n"
   ]
  },
  {
   "cell_type": "code",
   "execution_count": null,
   "id": "3382af37",
   "metadata": {},
   "outputs": [],
   "source": [
    "# make border ; for detect when pictures are full\n",
    "\n",
    "# image path\n",
    "image = cv.imread('1.jpeg')\n",
    "# border\n",
    "nTop = nBottom = nLeft = nRight = 70\n",
    "img = cv.copyMakeBorder(image, nTop, nBottom, nLeft, nRight, \n",
    "                                borderType=cv.BORDER_CONSTANT)\n",
    "# for check\n",
    "cv.imshow('BORDER', img)\n",
    "cv.waitKey(1000) \n",
    "cv.destroyAllWindows()"
   ]
  },
  {
   "cell_type": "code",
   "execution_count": null,
   "id": "b69ee21e",
   "metadata": {},
   "outputs": [
    {
     "data": {
      "text/plain": [
       "True"
      ]
     },
     "execution_count": 38,
     "metadata": {},
     "output_type": "execute_result"
    }
   ],
   "source": [
    "outpath = \"1_border.jpg\"\n",
    "#save the image\n",
    "cv.imwrite(outpath, img)"
   ]
  }
 ],
 "metadata": {
  "kernelspec": {
   "display_name": "Python 3 (ipykernel)",
   "language": "python",
   "name": "python3"
  },
  "language_info": {
   "codemirror_mode": {
    "name": "ipython",
    "version": 3
   },
   "file_extension": ".py",
   "mimetype": "text/x-python",
   "name": "python",
   "nbconvert_exporter": "python",
   "pygments_lexer": "ipython3",
   "version": "3.9.12"
  }
 },
 "nbformat": 4,
 "nbformat_minor": 5
}
